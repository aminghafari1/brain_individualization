{
 "cells": [
  {
   "cell_type": "code",
   "execution_count": 17,
   "metadata": {},
   "outputs": [
    {
     "name": "stderr",
     "output_type": "stream",
     "text": [
      "Matplotlib is building the font cache; this may take a moment.\n"
     ]
    }
   ],
   "source": [
    "import numpy as np\n",
    "import keras\n",
    "import tensorflow as tf\n",
    "from keras.datasets import mnist\n",
    "from keras.models import Model  \n",
    "from keras.layers import Dense, Input\n",
    "import matplotlib.pyplot as plt"
   ]
  },
  {
   "cell_type": "code",
   "execution_count": 42,
   "metadata": {},
   "outputs": [
    {
     "name": "stdout",
     "output_type": "stream",
     "text": [
      "1.0\n"
     ]
    }
   ],
   "source": [
    "(X_train, Y_train), (X_test, Y_test) = mnist.load_data()\n",
    "X_test.shape\n",
    "x_train=X_train.reshape(X_train.shape[0],X_train.shape[1]*X_train.shape[2])\n",
    "x_test=X_test.reshape(X_test.shape[0],X_test.shape[1]*X_test.shape[2])\n",
    "## rescale\n",
    "x_train=x_train/x_train.max()\n",
    "x_test=x_test/x_test.max()\n",
    "print(x_train.max())"
   ]
  },
  {
   "cell_type": "code",
   "execution_count": null,
   "metadata": {},
   "outputs": [],
   "source": [
    "## MODEL construction\n",
    "input_layer=Input(shape=(x_train.shape[1]))\n",
    "bottleneck=Dense(32,activation='relu',name='bottleneck')(input_layer)\n",
    "output=Dense(x_train.shape[1],activation='sigmoid',name='output')(bottleneck) ## the bottleneck acts as the input to this layer\n",
    "autoencoder=Model(input_layer,output)\n",
    "#autoencoder.summary()\n",
    "## it will have 50992 trainable parameters, why? 2 layers, 784*32+32+32*784+784=50992, remember Dense layer has bias, and it is a fully connected layer\n",
    "encoder=Model(input_layer,bottleneck)\n",
    "encoder.summary()\n",
    "encoded_layer=Input(shape=(32,), name='encoded_layer')\n",
    "decoder_layer=autoencoder.layers[-1]\n",
    "decoder=Model(encoded_layer,decoder_layer(encoded_layer))\n",
    "decoder.summary()"
   ]
  },
  {
   "cell_type": "code",
   "execution_count": null,
   "metadata": {},
   "outputs": [],
   "source": [
    "autoencoder.compile(loss='mse', optimizer='adam')\n",
    "history=autoencoder.fit(x_train,x_train,epochs=20,batch_size=128)"
   ]
  },
  {
   "cell_type": "code",
   "execution_count": null,
   "metadata": {},
   "outputs": [],
   "source": [
    "plt.plot(history.history['loss'])\n",
    "plt.grid(True)"
   ]
  },
  {
   "cell_type": "code",
   "execution_count": null,
   "metadata": {},
   "outputs": [],
   "source": [
    "encoded_data=encoder.predict(x_test, batch_size=512)\n",
    "encoded_data.shape"
   ]
  },
  {
   "cell_type": "code",
   "execution_count": null,
   "metadata": {},
   "outputs": [],
   "source": [
    "output_data=decoder.predict(encoded_data, batch_size=512)\n",
    "output_data=output_data.reshape(output_data.shape[0],28,28)"
   ]
  },
  {
   "cell_type": "code",
   "execution_count": null,
   "metadata": {},
   "outputs": [],
   "source": [
    "plt.imshow(output_data[200],cmap='gray')\n",
    "## hold the plot\n",
    "plt.show()\n",
    "\n",
    "## show input data\n",
    "plt.imshow(x_test[200].reshape(28,28),cmap='gray')\n",
    "\n",
    "##https://www.youtube.com/watch?v=P2lYhhCZ0Vg\n",
    "## good video for convolutional autoencoder"
   ]
  }
 ],
 "metadata": {
  "kernelspec": {
   "display_name": "Python 3.11.4 ('individualization')",
   "language": "python",
   "name": "python3"
  },
  "language_info": {
   "codemirror_mode": {
    "name": "ipython",
    "version": 3
   },
   "file_extension": ".py",
   "mimetype": "text/x-python",
   "name": "python",
   "nbconvert_exporter": "python",
   "pygments_lexer": "ipython3",
   "version": "3.10.12"
  },
  "orig_nbformat": 4,
  "vscode": {
   "interpreter": {
    "hash": "47380bbdf85ed1900e327b246086732b3f1feb76c05d722f38cad469ceec2539"
   }
  }
 },
 "nbformat": 4,
 "nbformat_minor": 2
}
